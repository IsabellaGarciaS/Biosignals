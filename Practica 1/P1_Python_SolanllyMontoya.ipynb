{
  "nbformat": 4,
  "nbformat_minor": 0,
  "metadata": {
    "colab": {
      "provenance": [],
      "authorship_tag": "ABX9TyPwgZbAx4SrrHc2pCmXqmj6",
      "include_colab_link": true
    },
    "kernelspec": {
      "name": "python3",
      "display_name": "Python 3"
    },
    "language_info": {
      "name": "python"
    }
  },
  "cells": [
    {
      "cell_type": "markdown",
      "metadata": {
        "id": "view-in-github",
        "colab_type": "text"
      },
      "source": [
        "<a href=\"https://colab.research.google.com/github/IsabellaGarciaS/Biosignals/blob/main/P1_Python_SolanllyMontoya.ipynb\" target=\"_parent\"><img src=\"https://colab.research.google.com/assets/colab-badge.svg\" alt=\"Open In Colab\"/></a>"
      ]
    },
    {
      "cell_type": "code",
      "execution_count": 8,
      "metadata": {
        "id": "9FOyJbtSvmEx",
        "colab": {
          "base_uri": "https://localhost:8080/"
        },
        "outputId": "6a35900b-a73f-4c8a-e393-b10b7df9cf39"
      },
      "outputs": [
        {
          "output_type": "stream",
          "name": "stdout",
          "text": [
            "vector a=[67.1  1.  -0.3  5.2 -6. ]\n",
            "vector b=[1.  3.  2.2 5.1 1. ]\n",
            " \n",
            "matriz A\n",
            "[[ 2.  -1.  -3. ]\n",
            " [ 4.  -1.5 -2.5]\n",
            " [ 7.3 -0.9 -0.2]]\n",
            " \n",
            "Transpuesta A\n",
            "[[ 2.   4.   7.3]\n",
            " [-1.  -1.5 -0.9]\n",
            " [-3.  -2.5 -0.2]]\n",
            " \n",
            "punto G = El valor de la 1ra fila 3ra columna es -3.0\n",
            "punto H = La 2da fila de la matriz es [ 4.  -1.5 -2.5]\n",
            "punto I = dimensionalidad:2 tamaño:9 forma:(3, 3)\n",
            "   \n"
          ]
        }
      ],
      "source": [
        "### Solanlly Evenedy Montoya Rivera cc 1001244569 Lab v6-8 grupo 2\n",
        "\n",
        "### PUNTO A. Crear los siguientes vectores\n",
        "\n",
        "import numpy as np #Primero debemos importar la biblioteca para trabajar con matrices\n",
        "import random as rg\n",
        "import matplotlib.pyplot as plt #Importar esta libreria para poder graficar\n",
        "\n",
        "a= np.array([67.1, 1, -0.3, 5.2, -6])\n",
        "b= np.array([1, 3, 2.2, 5.1, 1])\n",
        "print('vector a='+ str(a))\n",
        "print('vector b='+ str(b))\n",
        "print(' ')\n",
        "\n",
        "### PUNTO B. Mulriplicacion escalar\n",
        "\n",
        "multiplicacion = np.sum(a * b)\n",
        "# Que se debe realizar para poder multiplicar los dos vectores? Se debe utilizar la función np.sum() esta devuelve la suma de todos los\n",
        "# elementos y como usamos parentesis entonces calcula la suma de los productos de los elementos de los vectores a y b.\n",
        "\n",
        "### PUNTO C. Multiplicacion punto a punto\n",
        "\n",
        "multiplicacion2 = a * b\n",
        "\n",
        "### PUNTO D. Crear la siguiente matriz\n",
        "\n",
        "A = np.array([[2, -1, -3],[4, -1.5, -2.5],[7.3, -0.9, -0.2]])\n",
        "print('matriz A')\n",
        "print(A)\n",
        "print(' ')\n",
        "\n",
        "### PUNTO E. Obtengo su transpuesta\n",
        "\n",
        "ATranspuesta = np.transpose(A)\n",
        "ATranspuesta1 = A.T #esta es otra forma de hacer el mismo comando asi se encuentra en las diapos\n",
        "print('Transpuesta A')\n",
        "print(ATranspuesta)\n",
        "print(' ')\n",
        "\n",
        "### PUNTO F. Comando de la libreria numpy\n",
        "\n",
        "rg = np.random.default_rng(1)\n",
        "a0 = np.ones(6) #crea una matriz de ceros con la forma especificada.\n",
        "a1 = np.floor(10*rg.random((3,3))) #devuelve los elementos de una matriz hacia abajo al entero más cercano.\n",
        "a2 = np.ceil(10*rg.random((3,3))) #deveulve el valor entero hacia arriba\n",
        "a3 = np.round(10*rg.random((3,3))) #devuelve el valor con las cifras decimales especificadas\n",
        "\n",
        "### PUNTO G. Obtengo la primera fila, tercera columan de la matriz\n",
        "\n",
        "respuesta = A[0, 2]\n",
        "print('punto G = El valor de la 1ra fila 3ra columna es '+ str(respuesta))\n",
        "\n",
        "### PUNTO H. Obtengo la segunda fila de la matriz\n",
        "\n",
        "respuesta2 = A[1 ]\n",
        "print('punto H = La 2da fila de la matriz es '+ str(respuesta2))\n",
        "\n",
        "### PUNTO I. Forma y tamaño de la matriz\n",
        "\n",
        "x1 = A.ndim #dimensionalidad\n",
        "x2 = A.size #tamaño total\n",
        "x3 = A.shape #forma\n",
        "print('punto I = '+'dimensionalidad:' + str(x1) + ' tamaño:' + str(x2)+ ' forma:' + str(x3))\n",
        "print('   ')"
      ]
    },
    {
      "cell_type": "code",
      "source": [
        "### PUNTO J. Construir una funcion seno\n",
        "\n",
        "n=np.arange(0, 81) # hago un intervalo de 0-80\n",
        "\n",
        "def y(n):\n",
        "  return np.sin(np.pi*0.18*n)\n",
        "valores = y(n)\n",
        "\n",
        "plt.plot(n, valores, color=\"red\")\n",
        "plt.title(\"Funcion seno\")\n",
        "plt.xlabel(\"n\")\n",
        "plt.ylabel(\"y[n]\")\n",
        "plt.grid(True)\n",
        "plt.show()\n",
        "\n",
        "### PUNTO K. Construir una funcion coseno\n",
        "\n",
        "n= np.arange(0, 81)\n",
        "def y2(n):\n",
        "  return np.cos(2*np.pi*0.03*n)\n",
        "valores2= y2(n)\n",
        "\n",
        "plt.plot(n, valores2, color=\"green\")\n",
        "plt.title(\"Funcion coseno\")\n",
        "plt.xlabel(\"n\")\n",
        "plt.ylabel(\"y[n]\")\n",
        "plt.grid(True)\n",
        "plt.show()\n",
        "\n",
        "### PUNTO L\n",
        "\n",
        "# Para la suma de las dos señales\n",
        "def suma(n):\n",
        "  return y(n) + y2(n)\n",
        "\n",
        "valores3 = suma(n)\n",
        "plt.plot(n, valores3, color=\"blue\")\n",
        "plt.title(\"Suma de funciones\")\n",
        "plt.xlabel(\"n\")\n",
        "plt.ylabel(\"y[n]+ y2[n]\")\n",
        "plt.grid(True)\n",
        "plt.show()\n",
        "\n",
        "# Para la multiplicaciion de las dos señales\n",
        "def multip(n):\n",
        "  return y(n) * y2(n)\n",
        "\n",
        "valores4 = multip(n)\n",
        "plt.plot(n, valores4, color=\"magenta\")\n",
        "plt.title(\"Multiplicacion de funciones\")\n",
        "plt.xlabel(\"n\")\n",
        "plt.ylabel(\"y[n]*y2[n]\")\n",
        "plt.grid(True)\n",
        "plt.show()\n",
        "\n",
        "### PUNTO M\n",
        "\n",
        "plt.plot(n, valores, color='blue', label=\"y[n]\")\n",
        "plt.plot(n, valores2, color='green', label=\"y2[n]\")\n",
        "plt.title(\"GRAFICA PUNTO M\")\n",
        "plt.xlabel(\"n\")\n",
        "plt.ylabel(\"f(x)\")\n",
        "plt.legend()\n",
        "plt.show()\n",
        "\n",
        "### PUNTO N\n",
        "\n",
        "plt.plot(n, valores3, color='orange', label=\"y[n]+ y2[n]\")\n",
        "plt.plot(n, valores4, color='purple', label=\"y[n]*y2[n]\")\n",
        "plt.title(\"GRAFICA PUNTO N\")\n",
        "plt.xlabel(\"n\")\n",
        "plt.ylabel(\"f(x)\")\n",
        "plt.legend()\n",
        "plt.show()\n"
      ],
      "metadata": {
        "id": "8evHcIVF13zF"
      },
      "execution_count": null,
      "outputs": []
    },
    {
      "cell_type": "code",
      "source": [
        "####### RETO ########\n",
        "\n",
        "import pandas as pd\n",
        "\n",
        "nota = {'Sol':5.0, 'Danna':4.5, 'isa':2.0, 'Eve': 3.0, 'Jorge': 2.9, 'Diana': 3.5, 'Rosa': 4.0, 'Daniela': 1.5, 'Camila': 3.0, 'Bayron': 2.5}  #diccionario que contiene las notas de los estudiantes\n",
        "\n",
        "def calificaciones(nota): #creamos la funcion\n",
        "    nota = pd.Series(nota) #función de la libreria de pandas que usa para crear una serie a partir del diccionario que creamos 'nota'\n",
        "    datos = pd.Series([nota.min(), nota.max(), nota.mean(), nota.std()]) #aca se calcula lo que necesitamos\n",
        "    return datos # aca devolvemos una serie con los resultados\n",
        "\n",
        "resultado=calificaciones(nota) #llama a la funcion calificaciones y le pasa los argumentos que serian las notas del diccionario, eso lo guarde en una variable para no confundirme despues\n",
        "\n",
        "print('   ')\n",
        "print('Resultado de analisis de notas de los estudiantes del curso: ')\n",
        "print(\"Nota minima: {0:.2f}\".format(resultado[0]))\n",
        "print(\"Nota maxima: {0:.2f}\".format(resultado[1]))\n",
        "print(\"Nota promedio: {0:.2f}\".format(resultado[2]))\n",
        "print(\"Desviacion estandar: {0:.2f}\".format(resultado[3]))\n"
      ],
      "metadata": {
        "colab": {
          "base_uri": "https://localhost:8080/"
        },
        "id": "ELPvwOXS2D_s",
        "outputId": "53693f92-a231-465c-edd6-c5be19e4b13b"
      },
      "execution_count": 2,
      "outputs": [
        {
          "output_type": "stream",
          "name": "stdout",
          "text": [
            "   \n",
            "Resultado de analisis de notas de los estudiantes del curso: \n",
            "Nota minima: 1.50\n",
            "Nota maxima: 5.00\n",
            "Nota promedio: 3.19\n",
            "Desviacion estandar: 1.09\n"
          ]
        }
      ]
    }
  ]
}