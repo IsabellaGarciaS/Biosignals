{
  "nbformat": 4,
  "nbformat_minor": 0,
  "metadata": {
    "colab": {
      "provenance": [],
      "include_colab_link": true
    },
    "kernelspec": {
      "name": "python3",
      "display_name": "Python 3"
    },
    "language_info": {
      "name": "python"
    }
  },
  "cells": [
    {
      "cell_type": "markdown",
      "metadata": {
        "id": "view-in-github",
        "colab_type": "text"
      },
      "source": [
        "<a href=\"https://colab.research.google.com/github/IsabellaGarciaS/Biosignals/blob/main/P3_Parte2_G2.ipynb\" target=\"_parent\"><img src=\"https://colab.research.google.com/assets/colab-badge.svg\" alt=\"Open In Colab\"/></a>"
      ]
    },
    {
      "cell_type": "markdown",
      "source": [
        "<head><p><img alt=\"udeA logo\" height=\"150px\" src=\"https://github.com/freddyduitama/images/blob/master/logo.png?raw=true\" align=\"left\" hspace=\"50px\" vspace=\"0px\" style=\"width:107px;height:152px;\"></p>\n",
        "<h1><font color='black'> <center>\n",
        "       Bioseñales y Sistemas </center></font></h1>\n",
        "<p3><center><b><font color='black' face=\"Lucida Calligraphy,Comic Sans MS,Lucida Console\" size=\"5\">Universidad de Antioquia</font></b> </center></p3>\n",
        "</font>\n",
        "<h2><font color='black'> <center>\n",
        "Practica 3 parte 2  </center></font></h2>\n",
        "<h3><font color='black'> <center>\n",
        "Danna Isabella Garcia Saenz - Solanlly Evenedy Montoya Rivera </center></font></h3>\n",
        "<font  face=\"Courier New\" size=\"3\">\n",
        "<p1><center> </center></p1></head>"
      ],
      "metadata": {
        "id": "0oSPOxa1swkR"
      }
    },
    {
      "cell_type": "code",
      "source": [
        "#montamos el archivo tener acceso a los archivos almacenados en el\n",
        "from google.colab import drive\n",
        "drive.mount('/content/drive')"
      ],
      "metadata": {
        "colab": {
          "base_uri": "https://localhost:8080/"
        },
        "id": "DUGsUtmlwK3Y",
        "outputId": "d9a5b5b6-5862-4861-e273-618cbb662d5b"
      },
      "execution_count": null,
      "outputs": [
        {
          "output_type": "stream",
          "name": "stdout",
          "text": [
            "Mounted at /content/drive\n"
          ]
        }
      ]
    },
    {
      "cell_type": "code",
      "source": [
        "#librerias convencionales\n",
        "from scipy.fftpack import fft;\n",
        "import matplotlib.pyplot as plt;\n",
        "import numpy as np;\n",
        "import scipy.io as sio;\n",
        "import matplotlib.pyplot as plt\n",
        "#import yasa\n",
        "import os\n",
        "import scipy.io\n",
        "import pandas as pd"
      ],
      "metadata": {
        "id": "NT7Beg2ozubH"
      },
      "execution_count": null,
      "outputs": []
    },
    {
      "cell_type": "code",
      "source": [
        "#estas lineas de codigo se hacen para copiar y descomprimir los archivos ZIP de control.zip desde la carpeta datos al directorio de trabajo actual\n",
        "!cp /content/drive/MyDrive/Datos/control.zip .\n",
        "!unzip control.zip"
      ],
      "metadata": {
        "colab": {
          "base_uri": "https://localhost:8080/"
        },
        "id": "y81yjjWMIdPT",
        "outputId": "7218ef49-0979-476f-99bb-93f86386c0fa"
      },
      "execution_count": null,
      "outputs": [
        {
          "output_type": "stream",
          "name": "stdout",
          "text": [
            "Archive:  control.zip\n",
            " extracting: control/C001R_EP_reposo.mat  \n",
            " extracting: control/C002_EP_reposo.mat  \n",
            " extracting: control/C004_EP_reposo.mat  \n",
            " extracting: control/C005_EP_reposo_Repetido.mat  \n",
            " extracting: control/C006_EP_reposo.mat  \n",
            " extracting: control/C007_EP_reposo.mat  \n",
            " extracting: control/C010_EP_reposo.mat  \n",
            " extracting: control/C011_EP_reposo.mat  \n",
            " extracting: control/C012_EP_reposo.mat  \n",
            " extracting: control/C013_EP_reposo.mat  \n",
            " extracting: control/C015_EP_reposo.mat  \n",
            " extracting: control/C018_EP_reposo.mat  \n",
            " extracting: control/C019_EP_reposo.mat  \n",
            " extracting: control/C020_EP_reposo.mat  \n",
            " extracting: control/C021_EP_reposo.mat  \n",
            " extracting: control/C023_EP_reposo.mat  \n",
            " extracting: control/C024_EP_reposo.mat  \n",
            " extracting: control/C025_EP_reposo.mat  \n",
            " extracting: control/C026_EP_reposo.mat  \n",
            " extracting: control/C027_EP_reposo.mat  \n",
            " extracting: control/C028_EP_reposo.mat  \n",
            " extracting: control/C029_EP_reposo.mat  \n",
            " extracting: control/C030_EP_reposo.mat  \n",
            " extracting: control/C031_EP_reposo.mat  \n",
            " extracting: control/C032_EP_reposo.mat  \n",
            " extracting: control/C033R_EP_reposo.mat  \n",
            " extracting: control/C034_EP_reposo.mat  \n",
            " extracting: control/C036_EP_reposo.mat  \n",
            " extracting: control/C037_EP_reposo.mat  \n",
            " extracting: control/C040_EP_reposo.mat  \n",
            " extracting: control/C041_EP_reposo.mat  \n",
            " extracting: control/C042_EP_reposo.mat  \n",
            " extracting: control/C044_EP_reposo.mat  \n",
            " extracting: control/C045_EP_reposo.mat  \n",
            " extracting: control/C046_EP_reposo.mat  \n",
            " extracting: control/C049_EP_reposo.mat  \n"
          ]
        }
      ]
    },
    {
      "cell_type": "code",
      "source": [
        "#volvemos a hacer el mismo proceso para copiar y descomprimir los archivos ZIP de parkinson.zip desde la carpeta datos al directorio de trabajo actual\n",
        "!cp /content/drive/MyDrive/Datos/parkinson.zip .\n",
        "!unzip parkinson.zip"
      ],
      "metadata": {
        "colab": {
          "base_uri": "https://localhost:8080/"
        },
        "id": "tjX-_mmIIvvK",
        "outputId": "6e173a3d-6b10-4560-8471-5f20e5f9adcf"
      },
      "execution_count": null,
      "outputs": [
        {
          "output_type": "stream",
          "name": "stdout",
          "text": [
            "Archive:  parkinson.zip\n",
            " extracting: parkinson/P001_EP_reposo.mat  \n",
            " extracting: parkinson/P004_EP_reposo.mat  \n",
            " extracting: parkinson/P005_EP_reposo.mat  \n",
            " extracting: parkinson/P007_EP_reposo.mat  \n",
            " extracting: parkinson/P012_EP_reposo.mat  \n",
            " extracting: parkinson/P013_EP_reposo.mat  \n",
            " extracting: parkinson/P015_EP_reposo.mat  \n",
            " extracting: parkinson/P016_EP_reposo.mat  \n",
            " extracting: parkinson/P017_EP_reposo.mat  \n",
            " extracting: parkinson/P018_EP_reposo.mat  \n",
            " extracting: parkinson/P020_EP_reposo.mat  \n",
            " extracting: parkinson/P025_EP_reposo.mat  \n",
            " extracting: parkinson/P026_EP_reposo.mat  \n",
            " extracting: parkinson/P028_EP_reposo.mat  \n",
            " extracting: parkinson/P030_EP_reposo.mat  \n",
            " extracting: parkinson/P032_EP_reposo.mat  \n",
            " extracting: parkinson/P033_EP_reposo.mat  \n",
            " extracting: parkinson/P034_EP_reposo.mat  \n",
            " extracting: parkinson/P040_EP_reposo.mat  \n",
            " extracting: parkinson/P041_EP_reposo.mat  \n",
            " extracting: parkinson/P046_EP_reposo.mat  \n",
            " extracting: parkinson/P048_EP_reposo.mat  \n",
            " extracting: parkinson/P049_EP_reposo.mat  \n"
          ]
        }
      ]
    },
    {
      "cell_type": "code",
      "source": [
        "#imprime el directorio de trabajo actual\n",
        "import os\n",
        "directorio_actual=os.getcwd() #devuelve una cadena de texto que contiene la ruta completa del directorio de trabajo actual a la variable directorio_actual\n",
        "print(directorio_actual)"
      ],
      "metadata": {
        "colab": {
          "base_uri": "https://localhost:8080/"
        },
        "id": "jz_G1NWWKEJA",
        "outputId": "8ce7212f-089a-4e68-e5db-a97230fa555f"
      },
      "execution_count": null,
      "outputs": [
        {
          "output_type": "stream",
          "name": "stdout",
          "text": [
            "/content\n"
          ]
        }
      ]
    },
    {
      "cell_type": "code",
      "source": [
        "#esta parte del codigo se hace para seleccionar las rutas de los archivos de control y parkinson, carga los archivos de control\n",
        "#y los procesa para obtener una matriz de datos continua para cada sujeto.\n",
        "\n",
        "archivos_Control=os.listdir(directorio_actual + \"/control\") #aca seleccionamos las rutas de los pacientes\n",
        "archivos_Parkinson=os.listdir(directorio_actual + \"/parkinson\")\n",
        "print(len(archivos_Control))\n",
        "print(len(archivos_Parkinson))\n",
        "#CARGAMOS LOS CONTROLES\n",
        "for i in range(0,len(archivos_Control)): #recorre la lista de archivos de control\n",
        "    sujetoi=(directorio_actual + \"/control\" + \"/\" + archivos_Control[i]); #obtenemos la ruta del archivo\n",
        "    data = sio.loadmat(sujetoi); #se carga el archivo\n",
        "    data = data[\"data\"]; #se extrae la matriz de datos del archivo, la informacion que necesitamos que estaba contenida\n",
        "\n",
        "    #2 VOLVERLO CONTINUO\n",
        "    sensores = data.shape[0];\n",
        "    puntos = data.shape[1];\n",
        "    epocas = data.shape[2];\n",
        "\n",
        "    senal_continua = np.reshape(data,(sensores, puntos*epocas), order = 'F'); #aca vamos a organizar los datos\n",
        "    #se va a imprimir las filas y columnas"
      ],
      "metadata": {
        "colab": {
          "base_uri": "https://localhost:8080/"
        },
        "id": "dlBjXdX0KYmy",
        "outputId": "67532580-4ee4-476c-c817-8500137017cf"
      },
      "execution_count": null,
      "outputs": [
        {
          "output_type": "stream",
          "name": "stdout",
          "text": [
            "36\n",
            "23\n"
          ]
        }
      ]
    },
    {
      "cell_type": "code",
      "source": [
        "#Observemos que las señales cargadas sean .mat\n",
        "archivos_Control[0] # esto es para mirar el primer archivo en la lista de archivos de control\n"
      ],
      "metadata": {
        "colab": {
          "base_uri": "https://localhost:8080/",
          "height": 36
        },
        "id": "0MXJatJ1LIjX",
        "outputId": "6e87d45f-1597-410a-c970-6e16825ed52c"
      },
      "execution_count": null,
      "outputs": [
        {
          "output_type": "execute_result",
          "data": {
            "text/plain": [
              "'C027_EP_reposo.mat'"
            ],
            "application/vnd.google.colaboratory.intrinsic+json": {
              "type": "string"
            }
          },
          "metadata": {},
          "execution_count": 9
        }
      ]
    },
    {
      "cell_type": "code",
      "source": [
        "archivos_Parkinson[0]"
      ],
      "metadata": {
        "colab": {
          "base_uri": "https://localhost:8080/",
          "height": 36
        },
        "id": "ALN35zgTLSxF",
        "outputId": "698c8785-990e-4cd2-9449-f8203894d2da"
      },
      "execution_count": null,
      "outputs": [
        {
          "output_type": "execute_result",
          "data": {
            "text/plain": [
              "'P034_EP_reposo.mat'"
            ],
            "application/vnd.google.colaboratory.intrinsic+json": {
              "type": "string"
            }
          },
          "metadata": {},
          "execution_count": 10
        }
      ]
    },
    {
      "cell_type": "code",
      "source": [
        "#este codigo lo hacemos para conocer la estructura de datos cargada del archivo, mostraria las claves nombres de las variables dentro del archivo\n",
        "\n",
        "#ruta de un archivo\n",
        "path_subjecti_control=(directorio_actual + \"/control\" + \"/\" + archivos_Control[0]) #variable con la ruta, con el primer archivo\n",
        "#1 CARGAR EL ARCHIVO\n",
        "data_control= sio.loadmat(path_subjecti_control)\n",
        "#Buscamos la llave para poder llamarla\n",
        "data_control.keys()"
      ],
      "metadata": {
        "colab": {
          "base_uri": "https://localhost:8080/"
        },
        "id": "Epgo_NVPLbJh",
        "outputId": "bb1e08ef-53ad-429f-fc71-11b83a3590a7"
      },
      "execution_count": null,
      "outputs": [
        {
          "output_type": "execute_result",
          "data": {
            "text/plain": [
              "dict_keys(['__header__', '__version__', '__globals__', 'data'])"
            ]
          },
          "metadata": {},
          "execution_count": 11
        }
      ]
    },
    {
      "cell_type": "code",
      "source": [
        "data_control=data_control['data']\n",
        "data_control.shape"
      ],
      "metadata": {
        "colab": {
          "base_uri": "https://localhost:8080/"
        },
        "id": "H_jyeQwIMFnA",
        "outputId": "3db975e3-404b-42bd-82af-59cfe4d7e87b"
      },
      "execution_count": null,
      "outputs": [
        {
          "output_type": "execute_result",
          "data": {
            "text/plain": [
              "(8, 2000, 142)"
            ]
          },
          "metadata": {},
          "execution_count": 12
        }
      ]
    },
    {
      "cell_type": "code",
      "source": [
        "print(\"Variable python: \" + str(type(data_control)));\n",
        "#características básicas de ndarray\n",
        "print(\"Tipo de variable cargada: \" + str(data_control.dtype));\n",
        "print(\"Dimensiones de los datos cargados: \" + str(data_control.shape));\n",
        "print(\"Numero de dimensiones: \" + str(data_control.ndim));\n",
        "print(\"Tamanio: \" + str(data_control.size));\n",
        "print(\"Tamanio en memoria (bytes): \" + str(data_control.nbytes));"
      ],
      "metadata": {
        "colab": {
          "base_uri": "https://localhost:8080/"
        },
        "id": "CYaIM6MVMq5X",
        "outputId": "4db351a2-c586-46bb-8042-3b144048b8c6"
      },
      "execution_count": null,
      "outputs": [
        {
          "output_type": "stream",
          "name": "stdout",
          "text": [
            "Variable python: <class 'numpy.ndarray'>\n",
            "Tipo de variable cargada: float64\n",
            "Dimensiones de los datos cargados: (8, 2000, 142)\n",
            "Numero de dimensiones: 3\n",
            "Tamanio: 2272000\n",
            "Tamanio en memoria (bytes): 18176000\n"
          ]
        }
      ]
    },
    {
      "cell_type": "code",
      "source": [
        "#aca hacemos lo mismo que hace algunas lineas de reorganizar los datos\n",
        "senal_continua_control= np.reshape(data_control,(data_control.shape[0],data_control.shape[1]*data_control.shape[2]),order='F')"
      ],
      "metadata": {
        "id": "MI9vNsdXNOkk"
      },
      "execution_count": null,
      "outputs": []
    },
    {
      "cell_type": "code",
      "source": [
        "senal_continua_control.shape"
      ],
      "metadata": {
        "colab": {
          "base_uri": "https://localhost:8080/"
        },
        "id": "g2BNYMm5NbBo",
        "outputId": "6a395048-0f7d-4ea7-c4b2-8602b1929d30"
      },
      "execution_count": null,
      "outputs": [
        {
          "output_type": "execute_result",
          "data": {
            "text/plain": [
              "(8, 284000)"
            ]
          },
          "metadata": {},
          "execution_count": 15
        }
      ]
    },
    {
      "cell_type": "code",
      "source": [
        "#aca hacemos una figura que nuestra una porcion de elementos de la matriz señal continua control\n",
        "\n",
        "print(\"Dimensiones de los datos cargados: \" + str(senal_continua_control.shape));\n",
        "fig = plt.figure(figsize=(10,3))\n",
        "plt.plot(senal_continua_control[0,0:2000]) #nosotras escogimos un subconjunto de la matriz para la visualizacion para analizar\n",
        "plt.title(\"Señal control\")\n",
        "plt.show()"
      ],
      "metadata": {
        "colab": {
          "base_uri": "https://localhost:8080/",
          "height": 331
        },
        "id": "wMSPWDWoN3GN",
        "outputId": "dbfac702-ac28-4e03-9a4b-45b7341a63b1"
      },
      "execution_count": null,
      "outputs": [
        {
          "output_type": "stream",
          "name": "stdout",
          "text": [
            "Dimensiones de los datos cargados: (8, 284000)\n"
          ]
        },
        {
          "output_type": "display_data",
          "data": {
            "text/plain": [
              "<Figure size 1000x300 with 1 Axes>"
            ],
            "image/png": "[encoded data removed]"
          },
          "metadata": {}
        }
      ]
    },
    {
      "cell_type": "code",
      "source": [
        "#Ahora lo hacemos para los archivos de parkinson\n",
        "path_subjecti_parkinson=(directorio_actual + \"/parkinson\" + \"/\" + archivos_Parkinson[0])\n",
        "#1 CARGAR EL ARCHIVO\n",
        "data_parkinson= sio.loadmat(path_subjecti_parkinson)\n",
        "#Buscamos la llave para poder llamarla\n",
        "data_parkinson.keys()"
      ],
      "metadata": {
        "colab": {
          "base_uri": "https://localhost:8080/"
        },
        "id": "fPPYltefMDIo",
        "outputId": "da2140f3-ceab-4788-8f1a-5f00bce711db"
      },
      "execution_count": null,
      "outputs": [
        {
          "output_type": "execute_result",
          "data": {
            "text/plain": [
              "dict_keys(['__header__', '__version__', '__globals__', 'data'])"
            ]
          },
          "metadata": {},
          "execution_count": 17
        }
      ]
    },
    {
      "cell_type": "code",
      "source": [
        "data_parkinson=data_parkinson['data']\n",
        "data_parkinson.shape"
      ],
      "metadata": {
        "colab": {
          "base_uri": "https://localhost:8080/"
        },
        "id": "QWXDcQPuLvHe",
        "outputId": "844ca3e4-dfcf-4620-c09a-da3950c10e6c"
      },
      "execution_count": null,
      "outputs": [
        {
          "output_type": "execute_result",
          "data": {
            "text/plain": [
              "(8, 2000, 159)"
            ]
          },
          "metadata": {},
          "execution_count": 18
        }
      ]
    },
    {
      "cell_type": "code",
      "source": [
        "print(\"Variable python: \" + str(type(data_parkinson)));\n",
        "#características básicas de ndarray\n",
        "print(\"Tipo de variable cargada: \" + str(data_parkinson.dtype));\n",
        "print(\"Dimensiones de los datos cargados: \" + str(data_parkinson.shape));\n",
        "print(\"Numero de dimensiones: \" + str(data_parkinson.ndim));\n",
        "print(\"Tamanio: \" + str(data_parkinson.size));\n",
        "print(\"Tamanio en memoria (bytes): \" + str(data_parkinson.nbytes));"
      ],
      "metadata": {
        "colab": {
          "base_uri": "https://localhost:8080/"
        },
        "id": "6yNrKkZrM3n4",
        "outputId": "51484d20-43ab-4057-c065-c7181dafc236"
      },
      "execution_count": null,
      "outputs": [
        {
          "output_type": "stream",
          "name": "stdout",
          "text": [
            "Variable python: <class 'numpy.ndarray'>\n",
            "Tipo de variable cargada: float64\n",
            "Dimensiones de los datos cargados: (8, 2000, 159)\n",
            "Numero de dimensiones: 3\n",
            "Tamanio: 2544000\n",
            "Tamanio en memoria (bytes): 20352000\n"
          ]
        }
      ]
    },
    {
      "cell_type": "code",
      "source": [
        "senal_continua_parkinson= np.reshape(data_parkinson,(data_parkinson.shape[0],data_parkinson.shape[1]*data_parkinson.shape[2]),order='F') #reorganizamos los datos\n",
        "senal_continua_parkinson.shape"
      ],
      "metadata": {
        "colab": {
          "base_uri": "https://localhost:8080/"
        },
        "id": "5_ykKlE4Nljr",
        "outputId": "920e5ca6-98f8-4554-c5bd-8362c230eef9"
      },
      "execution_count": null,
      "outputs": [
        {
          "output_type": "execute_result",
          "data": {
            "text/plain": [
              "(8, 318000)"
            ]
          },
          "metadata": {},
          "execution_count": 22
        }
      ]
    },
    {
      "cell_type": "code",
      "source": [
        "#hacemos un codigo para visualizar la señal parkinson escogiendo nuevamente un subconjunto de puntos de la matriz para observar un pedazo de la señal\n",
        "\n",
        "print(\"Dimensiones de los datos cargados: \" + str(senal_continua_parkinson.shape));\n",
        "fig = plt.figure(figsize=(10,3))\n",
        "plt.plot(senal_continua_parkinson[0,0:2000])\n",
        "plt.title(\"Señal parkinson\")\n",
        "plt.show()"
      ],
      "metadata": {
        "colab": {
          "base_uri": "https://localhost:8080/",
          "height": 331
        },
        "id": "vA4V2FfxON4Q",
        "outputId": "c8a1d27a-0840-40e5-9dc7-41af61a675c7"
      },
      "execution_count": null,
      "outputs": [
        {
          "output_type": "stream",
          "name": "stdout",
          "text": [
            "Dimensiones de los datos cargados: (8, 318000)\n"
          ]
        },
        {
          "output_type": "display_data",
          "data": {
            "text/plain": [
              "<Figure size 1000x300 with 1 Axes>"
            ],
            "image/png": "[encoded data removed]"
          },
          "metadata": {}
        }
      ]
    },
    {
      "cell_type": "markdown",
      "source": [
        "Se cuenta con señales de EEG de dos grupos de personas, un grupo control y un grupo de pacientes con enfermedad  de  Parkinson.  Se  tiene  evidencia  que  la  energía  de  las  señales  de  EEG  puede  conducir  a diferenciar entre señales de pacientes con enfermedad de Parkinson y sanos. Se pide calcular la Energía promedio por grupo poblacional de cada canal."
      ],
      "metadata": {
        "id": "BDrgvBY1Obmt"
      }
    },
    {
      "cell_type": "code",
      "source": [
        "#seleccionamos las rutas provenientes de los pacientes control y parkinson\n",
        "archivos_Control = os.listdir(directorio_actual + \"/control\")\n",
        "archivos_Parkinson = os.listdir(directorio_actual + \"/parkinson\")\n",
        "print(len(archivos_Control))\n",
        "print(len(archivos_Parkinson))\n",
        "\n",
        "#función para calcular la energía de una señal\n",
        "#calcula la energía de toda la señal y luego la divide por la longitud de la señal para obtener la energía promedio.\n",
        "def calcular_energia(signal):\n",
        "    return np.sum(np.square(signal)) / len(signal)\n",
        "\n",
        "#cargar los controles y calcular la energia promedio por canal\n",
        "energia_control_por_canal = []\n",
        "for archivo in archivos_Control:\n",
        "    sujetoi= directorio_actual + \"/control\" + \"/\" + archivo   #ruta de un archivo\n",
        "    data= sio.loadmat(sujetoi)[\"data\"] #carga el archivo\n",
        "    sensores, puntos, epocas= data.shape #lo vuelve continuo\n",
        "    senal_continua= np.reshape(data, (sensores, puntos * epocas), order='F')\n",
        "    #calcula la energía por canal y promediar\n",
        "    energia_por_canal= [calcular_energia(senal_continua[i]) for i in range(sensores)]\n",
        "    energia_control_por_canal.append(energia_por_canal)\n",
        "\n",
        "energia_control_promedio = np.mean(energia_control_por_canal, axis=0)\n",
        "\n",
        "# Cargar los pacientes con Parkinson y calcular la energía promedio por canal\n",
        "energia_parkinson_por_canal= []\n",
        "for archivo in archivos_Parkinson:\n",
        "    #ruta de un archivo\n",
        "    sujetoi = directorio_actual + \"/parkinson\" + \"/\" + archivo\n",
        "    #cargar el archivo\n",
        "    data= sio.loadmat(sujetoi)[\"data\"]\n",
        "    #volverlo continuo\n",
        "    sensores, puntos, epocas= data.shape\n",
        "    senal_continua= np.reshape(data, (sensores, puntos * epocas), order='F')\n",
        "    #calcular la energía por canal y promediar\n",
        "    energia_por_canal= [calcular_energia(senal_continua[i]) for i in range(sensores)]\n",
        "    energia_parkinson_por_canal.append(energia_por_canal)\n",
        "\n",
        "energia_parkinson_promedio = np.mean(energia_parkinson_por_canal, axis=0)\n",
        "\n",
        "#imprime los resultados\n",
        "print(\"Energía promedio por canal para el grupo de control:\")\n",
        "print(energia_control_promedio)\n",
        "\n",
        "print(\"Energía promedio por canal para el grupo de Parkinson:\")\n",
        "print(energia_parkinson_promedio)\n"
      ],
      "metadata": {
        "colab": {
          "base_uri": "https://localhost:8080/"
        },
        "id": "C7JzOZZuaMFP",
        "outputId": "5d4c0374-a0f4-422b-b8d1-bc5e3734e48e"
      },
      "execution_count": null,
      "outputs": [
        {
          "output_type": "stream",
          "name": "stdout",
          "text": [
            "36\n",
            "23\n",
            "Energía promedio por canal para el grupo de control:\n",
            "[11.00733662 11.89345915 12.92293781 11.44159482 11.91382475 41.75919793\n",
            " 35.17420868 46.26549738]\n",
            "Energía promedio por canal para el grupo de Parkinson:\n",
            "[12.17483609 12.69055645 14.73236204 13.00336108 12.89451501 56.29340932\n",
            " 47.12917112 61.7702947 ]\n"
          ]
        }
      ]
    },
    {
      "cell_type": "markdown",
      "source": [
        "1. Implemente una función que reciba una señal de múltiples canales y épocas y calcule la Energía de promedio de cada canal."
      ],
      "metadata": {
        "id": "AkXyLqz8uDlc"
      }
    },
    {
      "cell_type": "code",
      "execution_count": null,
      "metadata": {
        "id": "2VXg09WrsaR4"
      },
      "outputs": [],
      "source": [
        "def calcular_energia_promedio(signal): #creamos una funcion\n",
        "    canales, puntos, epocas = signal.shape\n",
        "\n",
        "    #calcula la energía de cada época\n",
        "    energias_epoca = np.sum(signal**2, axis=1)\n",
        "    #calcula la energía promedio de cada canal\n",
        "    energias_promedio = np.mean(energias_epoca, axis=1)\n",
        "\n",
        "    return energias_promedio\n"
      ]
    },
    {
      "cell_type": "code",
      "source": [
        "#cargar los controles y calcular la energía promedio por canal\n",
        "#calcula la energía de cada época y luego promedia estas energías por cada canal\n",
        "\n",
        "energia_control_por_canal = []\n",
        "for archivo in archivos_Control:\n",
        "    #ruta de un archivo\n",
        "    sujetoi= directorio_actual + \"/control\" + \"/\" + archivo\n",
        "    #cargar el archivo\n",
        "    data= sio.loadmat(sujetoi)[\"data\"]\n",
        "    #volverlo continuo\n",
        "    sensores, puntos, epocas = data.shape\n",
        "    senal_continua= np.reshape(data, (sensores, puntos * epocas), order='F')\n",
        "    #calcular la energía promedio por canal\n",
        "    energia_promedio_por_canal= calcular_energia_promedio(data)\n",
        "    energia_control_por_canal.append(energia_promedio_por_canal)\n",
        "\n",
        "energia_control_promedio = np.mean(energia_control_por_canal, axis=0)\n",
        "\n",
        "#cargar los pacientes con Parkinson y calcular la energía promedio por canal\n",
        "energia_parkinson_por_canal = []\n",
        "for archivo in archivos_Parkinson:\n",
        "    #ruta de un archivo\n",
        "    sujetoi= directorio_actual + \"/parkinson\" + \"/\" + archivo\n",
        "    #cargar el archivo\n",
        "    data= sio.loadmat(sujetoi)[\"data\"]\n",
        "    #volverlo continuo\n",
        "    sensores, puntos, epocas= data.shape\n",
        "    senal_continua= np.reshape(data, (sensores, puntos * epocas), order='F')\n",
        "    #calcular la energía promedio por canal\n",
        "    energia_promedio_por_canal= calcular_energia_promedio(data)\n",
        "    energia_parkinson_por_canal.append(energia_promedio_por_canal)\n",
        "\n",
        "energia_parkinson_promedio= np.mean(energia_parkinson_por_canal, axis=0)\n",
        "\n",
        "#imprimir resultados\n",
        "print(\"Energía promedio por canal para el grupo de control:\")\n",
        "print(energia_control_promedio)\n",
        "\n",
        "print(\"Energía promedio por canal para el grupo de Parkinson:\")\n",
        "print(energia_parkinson_promedio)\n"
      ],
      "metadata": {
        "colab": {
          "base_uri": "https://localhost:8080/"
        },
        "id": "vhVOqDXXcbcl",
        "outputId": "56ab2a67-e512-4d0e-e4d6-5831bb929395"
      },
      "execution_count": null,
      "outputs": [
        {
          "output_type": "stream",
          "name": "stdout",
          "text": [
            "Energía promedio por canal para el grupo de control:\n",
            "[22014.67324705 23786.91830389 25845.8756222  22883.18964815\n",
            " 23827.64949006 83518.39586382 70348.41736007 92530.99476897]\n",
            "Energía promedio por canal para el grupo de Parkinson:\n",
            "[ 24349.67217286  25381.11289939  29464.72407895  26006.72215167\n",
            "  25789.03001546 112586.81864282  94258.34224955 123540.58940534]\n"
          ]
        }
      ]
    },
    {
      "cell_type": "markdown",
      "source": [
        "2. Calcule la  energía de  cada  canal  promediada  por  épocas  para  cada  sujeto,  esto  para  ambos  grupos poblacionales. Guarde esta información en un DataFrame de columnas ‘canal’ y filas ‘#sujeto’ con los valores de energía calculados, un DataFrame para cada grupo poblacional."
      ],
      "metadata": {
        "id": "6kvswEO_uGtj"
      }
    },
    {
      "cell_type": "code",
      "source": [
        "#función para calcular la energía promedio por canal\n",
        "def calcular_energia_promedio_por_canal(signal):\n",
        "    energias_promedio= np.mean(np.sum(signal**2, axis=1), axis=1)\n",
        "    return energias_promedio\n",
        "\n",
        "#creamos funcion para calcular la energía promedio por epoca para cada sujeto\n",
        "def calcular_energia_promedio_por_sujeto(archivos, directorio):\n",
        "    energias_por_sujeto= []\n",
        "    for archivo in archivos:\n",
        "        #ruta de un archivo\n",
        "        sujetoi= directorio + \"/\" + archivo\n",
        "        #cargar el archivo\n",
        "        data= sio.loadmat(sujetoi)[\"data\"]\n",
        "        #calcular la energía promedio por canal\n",
        "        energia_promedio_por_canal = calcular_energia_promedio_por_canal(data)\n",
        "        #guardar las energías promedio por canal en la lista\n",
        "        energias_por_sujeto.append(energia_promedio_por_canal)\n",
        "    #convertimos la lista a un data-frame\n",
        "    df_energias= pd.DataFrame(energias_por_sujeto, columns=[f'Canal_{i+1}' for i in range(len(energias_por_sujeto[0]))])\n",
        "    return df_energias\n",
        "\n",
        "#calcula la energía promedio por epoca para cada sujeto en el grupo de control\n",
        "df_control_energias= calcular_energia_promedio_por_sujeto(archivos_Control, directorio_actual + \"/control\")\n",
        "\n",
        "#calcula la energía promedio por epoca para cada sujeto en el grupo de parkinson\n",
        "df_parkinson_energias= calcular_energia_promedio_por_sujeto(archivos_Parkinson, directorio_actual + \"/parkinson\")\n",
        "\n",
        "#imprimir\n",
        "print(\"Energías promedio por canal para el grupo de control:\")\n",
        "print(df_control_energias)\n",
        "\n",
        "print(\"\\nEnergías promedio por canal para el grupo de Parkinson:\")\n",
        "print(df_parkinson_energias)\n"
      ],
      "metadata": {
        "id": "WilsMpBbuKI1",
        "colab": {
          "base_uri": "https://localhost:8080/"
        },
        "outputId": "7f343664-8821-454d-b531-7b0d6bc81acf"
      },
      "execution_count": null,
      "outputs": [
        {
          "output_type": "stream",
          "name": "stdout",
          "text": [
            "Energías promedio por canal para el grupo de control:\n",
            "         Canal_1       Canal_2       Canal_3       Canal_4       Canal_5  \\\n",
            "0   47166.556798  55107.798641  52286.884667  34682.656928  30606.119338   \n",
            "1   15966.402868  17617.810248  20804.937129  19654.400017  16678.982063   \n",
            "2   10717.179591   8678.364937   2837.929418   4247.197699   7940.801560   \n",
            "3   27648.962740  30316.594962  37591.351773  25811.252034  27832.063483   \n",
            "4   31250.507507  24222.776323  28298.111428  25378.777621  33079.452791   \n",
            "5   16237.836551  12899.899544  12386.284718  12167.858008  19279.941752   \n",
            "6   21064.909655  17704.075393  18305.622532  22438.444791  22415.119998   \n",
            "7   27406.189072  21049.882057  45082.411879  49492.678794  40225.257438   \n",
            "8   54139.262123  49105.618777  53194.129654  57224.244039  56824.702656   \n",
            "9   13352.558858  12079.042337  12056.752677  13537.102069  13418.269716   \n",
            "10  34036.502777  35276.242239  37728.034174  30403.012785  32255.024467   \n",
            "11  14148.673322  18283.999666  28749.932148  14270.726911  28787.445978   \n",
            "12  45453.734066  42660.225279  44139.445078  50829.933680  59261.694214   \n",
            "13  21465.650358  20985.907912  22760.149588  18505.640284  29730.163026   \n",
            "14   7053.495371   6483.359552   6733.630592   6466.650688   6707.361817   \n",
            "15  15536.232499  27171.554335  31295.123356  22037.159698  15381.977763   \n",
            "16   4915.062778   6105.849947   5167.552339   4137.717862   4103.995281   \n",
            "17  35311.301696  34916.686010  38800.429029  35427.031127  35905.472869   \n",
            "18  23331.449171  21794.167460  20057.059370  18703.362284  21191.204277   \n",
            "19  11840.210442  26452.547613  15211.335701  12976.758727  14377.091900   \n",
            "20  11419.720480  13899.308168  15693.423491   9310.798253   9919.084395   \n",
            "21  16272.826799  13075.926126  13775.441563  12795.198591  14022.460790   \n",
            "22  32321.272932  37703.798749  42613.972372  29252.410036  26890.856667   \n",
            "23  44475.710242  68589.716078  77481.958140  79786.695885  70386.435807   \n",
            "24  17567.465030  21738.511853  29429.308030  28530.200793  24586.407386   \n",
            "25  13180.109317  13925.217812  16218.994223  12324.883659  14060.300659   \n",
            "26  28551.124065  26204.839254  17383.998956  17244.605933  26206.372422   \n",
            "27  18510.829979  19738.489375  20911.792748  21828.254399  23351.992649   \n",
            "28   9702.573235   8310.599134  11274.177917   7138.981899  10286.070527   \n",
            "29  25807.598672  31148.334573  28640.385345  21025.777687  18251.804557   \n",
            "30  16525.863562  18074.712395  25064.807854  22946.351737  24337.362553   \n",
            "31  33100.991142  37083.630148  48210.820005  37758.393155  28343.182930   \n",
            "32  11920.628977  12381.108138  11545.897906  11616.229122  18658.417865   \n",
            "33  14798.253355  25379.940073  14356.020122  12288.656607  11694.967690   \n",
            "34   9133.036290   9214.155028  11626.411811  10809.621612  10467.879938   \n",
            "35  11197.554574  10948.368805  12737.004665  10745.161921  10329.642418   \n",
            "\n",
            "          Canal_6        Canal_7        Canal_8  \n",
            "0   227045.733387  224891.029478  322172.431642  \n",
            "1    93894.049009   66862.496275   75685.125872  \n",
            "2    24721.550337   21062.102476   19561.401306  \n",
            "3    22108.384942   16607.683515   14131.438919  \n",
            "4   240835.102634  156030.040579  278095.358270  \n",
            "5    57768.543178   53582.356717   68859.298874  \n",
            "6    43344.591885   36731.812513   45890.820535  \n",
            "7    42301.871711   33188.664449   34157.555662  \n",
            "8   239662.908728  194882.004020  381633.958654  \n",
            "9    38883.704467   37960.013947   37046.836341  \n",
            "10  149804.923665  194218.587624  270161.157209  \n",
            "11   14661.417740   15940.154095   19499.898656  \n",
            "12  253815.983291  214544.090670  247982.671049  \n",
            "13   25244.158073   22781.327587   24658.599512  \n",
            "14   17285.045612   16605.010744   18350.242393  \n",
            "15   52433.103691   52188.150059   46071.832322  \n",
            "16   20359.586331   17598.962585   22292.230470  \n",
            "17  106598.128152  106885.575966  112520.750636  \n",
            "18   91362.046468   60904.241719   53341.328914  \n",
            "19    7215.202754   15864.901097   19472.869878  \n",
            "20   38555.794005   36669.080773   48958.809066  \n",
            "21   70631.008328   70072.393087   69543.622247  \n",
            "22   68243.618642   52417.921598   72115.850131  \n",
            "23  345373.334477  215673.993168  298878.557209  \n",
            "24   73273.828899   68753.985484   67962.795266  \n",
            "25   25767.024864   21935.759622   22827.781293  \n",
            "26   83370.618408   51121.105722   67852.348256  \n",
            "27   53086.059766   37495.972475   43067.095504  \n",
            "28   16151.490459   15731.296585   20956.719846  \n",
            "29  148225.533204  123954.279562  139100.707347  \n",
            "30   70116.806192   63509.019508   71891.447386  \n",
            "31  101170.614692   87824.803410  137143.924875  \n",
            "32   42058.456657   34417.780679   46167.748438  \n",
            "33   33493.547072   32447.412642   35561.860821  \n",
            "34   46336.873547   45695.801756   50086.361637  \n",
            "35   21461.605831   15493.212776   27414.375247  \n",
            "\n",
            "Energías promedio por canal para el grupo de Parkinson:\n",
            "         Canal_1       Canal_2       Canal_3       Canal_4       Canal_5  \\\n",
            "0   16001.606312  13678.099220  16024.473570  14482.116106  14723.843472   \n",
            "1   33900.139101  32395.467750  29194.827407  23439.114082  25040.406700   \n",
            "2   22034.834171  21250.934562  27369.549841  13197.556268  18373.335858   \n",
            "3   16202.416566  13124.247855  13988.674335  12752.027365  15784.724049   \n",
            "4   23742.325612  22070.007569  24540.315612  21803.936448  22594.339745   \n",
            "5   14532.459483  17860.192841  30120.983497  29569.273094  30054.971601   \n",
            "6   38092.102574  43575.379457  41979.994799  41715.287990  46513.737045   \n",
            "7   49937.833324  46030.495239  46746.506684  43109.302338  42923.267828   \n",
            "8    9581.810471  14008.572615   9589.230257   9374.085669   8154.941858   \n",
            "9   12157.229828  13398.658526  17668.877657  14841.104693  11297.742247   \n",
            "10  48923.874237  64324.769523  85175.914992  78087.225852  65792.625436   \n",
            "11  23658.738825  23990.255991  30633.745996  22888.894132  19932.315538   \n",
            "12  32188.312555  31159.578900  32352.266891  28810.929111  25368.624860   \n",
            "13  10930.227074  14670.548632  21623.897909  15449.251169  13471.035295   \n",
            "14  23446.051598  26091.341850  36640.531850  25660.222773  31330.549186   \n",
            "15  16776.577493  20468.685954  25320.621029  24036.472073  20723.732743   \n",
            "16  12438.243570  11261.175800  10819.634775   9489.784462  12091.060945   \n",
            "17  48574.518921  51806.529769  73171.952374  59707.699631  56552.175747   \n",
            "18  17699.028112  26643.280393  32468.842059  25561.956895  23415.623101   \n",
            "19  31133.326257  21899.992984  17153.107641  20533.434338  31864.375631   \n",
            "20  17995.660058  12001.601821  12286.344400  14785.908284  17058.433161   \n",
            "21  10692.948223  10841.187262  12154.390086  24161.685202  14789.173543   \n",
            "22  29402.195610  31214.592172  30663.970154  24697.341514  25296.654765   \n",
            "\n",
            "          Canal_6        Canal_7        Canal_8  \n",
            "0    31443.053250   28191.962386   33117.421322  \n",
            "1   122738.018441  103327.500981  100845.843964  \n",
            "2    85398.723929   59948.779883   72367.809030  \n",
            "3    50730.233172   50742.237835   73694.061647  \n",
            "4   128314.264805  128888.485633  152799.284248  \n",
            "5    22088.181162   18262.518633   18454.068489  \n",
            "6   251649.394709  179345.438488  262361.180410  \n",
            "7   424838.119622  283345.547804  408902.026150  \n",
            "8    28970.848994   40705.897395   36624.858559  \n",
            "9    38701.647608   41828.973929   61328.610990  \n",
            "10  458631.543464  400266.637762  554127.580214  \n",
            "11   65161.432397   60552.834862   58441.048743  \n",
            "12   59526.213049   66204.132354   69036.969842  \n",
            "13   28974.383402   31469.428045   32535.921202  \n",
            "14   93696.128392   67690.908167  111124.343428  \n",
            "15   76391.356727   60599.129053   81585.412935  \n",
            "16   22798.213463   23700.620349   25606.065340  \n",
            "17  287105.761622  222745.793414  353312.298104  \n",
            "18   57294.133077   54829.651258   59700.873328  \n",
            "19   79797.786103   74152.811380   66497.823839  \n",
            "20   63983.449318   53715.460772   66403.639479  \n",
            "21   43302.825848   42560.941845   39043.973220  \n",
            "22   67961.116232   74866.179511  103522.441839  \n"
          ]
        }
      ]
    },
    {
      "cell_type": "markdown",
      "source": [
        "3. Determine si existe diferencia estadística entre canales de cada grupo de sujetos a través de una prueba t. Compruebe los supuestos necesarios para realizar una prueba t, esto es: Normalidad de la variable, independencia (se asume que los grupos son independientes), y homocedasticidad (use una prueba de Levene), finalmente realice la prueba t para determinar si existen diferencias entre los canales entre grupos de sujetos. De no cumplirse los requisitos, realice entonces un análisis no paramétrico (prueba Ude Mann-Whitney).  Este  numeral  tiene  como  objetivo  identificar  los  canales  que  entregan información diferencial entre pacientes Sanos y con enfermedad de Parkinson."
      ],
      "metadata": {
        "id": "FGWeQ5sNuKkJ"
      }
    },
    {
      "cell_type": "markdown",
      "source": [
        "Las hipótesis planteadas son:\n",
        "\n",
        "Ho: No hay diferencia significativa en la energía promedio del canal entre los grupos de sujetos sanos (control) y sujetos con Parkinson.\n",
        "\n",
        "H: Existe una diferencia significativa en la energía promedio del canal entre los grupos de sujetos sanos (control) y sujetos con Parkinson."
      ],
      "metadata": {
        "id": "IJFpF1NqhYX8"
      }
    },
    {
      "cell_type": "code",
      "source": [
        "from scipy.stats import ttest_ind, levene, mannwhitneyu, shapiro\n",
        "\n",
        "#funcion para verificar la normalidad de una variable\n",
        "def verificar_normalidad(datos):\n",
        "    _, p_valor= shapiro(datos)\n",
        "    return p_valor > 0.05\n",
        "\n",
        "#funcion para verificar la homogeneidad de varianzas usando la prueba de Levene\n",
        "def verificar_homocedasticidad(datos1, datos2):\n",
        "    _, p_valor= levene(datos1, datos2)\n",
        "    return p_valor > 0.05\n",
        "\n",
        "#funcion para realizar la prueba t independiente si se cumplen los supuestos\n",
        "def prueba_t(datos1, datos2):\n",
        "    _, p_valor= ttest_ind(datos1, datos2)\n",
        "    return p_valor\n",
        "\n",
        "#otra funcion para realizar la prueba U de Mann-Whitney si no se cumplen los supuestos\n",
        "def prueba_mannwhitneyu(datos1, datos2):\n",
        "    _, p_valor = mannwhitneyu(datos1, datos2)\n",
        "    return p_valor\n",
        "\n",
        "#realizamos las pruebas para cada canal\n",
        "for canal in df_control_energias.columns:\n",
        "    datos_control= df_control_energias[canal]\n",
        "    datos_parkinson= df_parkinson_energias[canal]\n",
        "\n",
        "    #verifica normalidad y homogeneidad de varianzas\n",
        "    normalidad_control= verificar_normalidad(datos_control)\n",
        "    normalidad_parkinson= verificar_normalidad(datos_parkinson)\n",
        "    homocedasticidad= verificar_homocedasticidad(datos_control, datos_parkinson)\n",
        "\n",
        "    print(f\"\\nCanal: {canal}\")\n",
        "    print(f\"Normalidad en control: {normalidad_control}\")\n",
        "    print(f\"Normalidad en Parkinson: {normalidad_parkinson}\")\n",
        "    print(f\"Homocedasticidad: {homocedasticidad}\")\n",
        "\n",
        "    #realizamos prueba t o U de Mann-Whitney según los resultados\n",
        "    if normalidad_control and normalidad_parkinson and homocedasticidad:\n",
        "        p_valor= prueba_t(datos_control, datos_parkinson)\n",
        "        if p_valor < 0.05:\n",
        "            print(\"Prueba t: Existe diferencia estadística (p < 0.05)\")\n",
        "        else:\n",
        "            print(\"Prueba t: No hay diferencia estadística (p >= 0.05)\")\n",
        "    else:\n",
        "        p_valor= prueba_mannwhitneyu(datos_control, datos_parkinson)\n",
        "        if p_valor < 0.05:\n",
        "            print(\"Prueba U de Mann-Whitney: Existe diferencia estadística (p < 0.05)\")\n",
        "        else:\n",
        "            print(\"Prueba U de Mann-Whitney: No hay diferencia estadística (p >= 0.05)\")\n"
      ],
      "metadata": {
        "id": "kKulD4bauOXn",
        "colab": {
          "base_uri": "https://localhost:8080/"
        },
        "outputId": "aba6acaa-5d91-430f-ba31-4f7d3354cca3"
      },
      "execution_count": null,
      "outputs": [
        {
          "output_type": "stream",
          "name": "stdout",
          "text": [
            "\n",
            "Canal: Canal_1\n",
            "Normalidad en control: False\n",
            "Normalidad en Parkinson: False\n",
            "Homocedasticidad: True\n",
            "Prueba U de Mann-Whitney: No hay diferencia estadística (p >= 0.05)\n",
            "\n",
            "Canal: Canal_2\n",
            "Normalidad en control: False\n",
            "Normalidad en Parkinson: False\n",
            "Homocedasticidad: True\n",
            "Prueba U de Mann-Whitney: No hay diferencia estadística (p >= 0.05)\n",
            "\n",
            "Canal: Canal_3\n",
            "Normalidad en control: False\n",
            "Normalidad en Parkinson: False\n",
            "Homocedasticidad: True\n",
            "Prueba U de Mann-Whitney: No hay diferencia estadística (p >= 0.05)\n",
            "\n",
            "Canal: Canal_4\n",
            "Normalidad en control: False\n",
            "Normalidad en Parkinson: False\n",
            "Homocedasticidad: True\n",
            "Prueba U de Mann-Whitney: No hay diferencia estadística (p >= 0.05)\n",
            "\n",
            "Canal: Canal_5\n",
            "Normalidad en control: False\n",
            "Normalidad en Parkinson: False\n",
            "Homocedasticidad: True\n",
            "Prueba U de Mann-Whitney: No hay diferencia estadística (p >= 0.05)\n",
            "\n",
            "Canal: Canal_6\n",
            "Normalidad en control: False\n",
            "Normalidad en Parkinson: False\n",
            "Homocedasticidad: True\n",
            "Prueba U de Mann-Whitney: No hay diferencia estadística (p >= 0.05)\n",
            "\n",
            "Canal: Canal_7\n",
            "Normalidad en control: False\n",
            "Normalidad en Parkinson: False\n",
            "Homocedasticidad: True\n",
            "Prueba U de Mann-Whitney: No hay diferencia estadística (p >= 0.05)\n",
            "\n",
            "Canal: Canal_8\n",
            "Normalidad en control: False\n",
            "Normalidad en Parkinson: False\n",
            "Homocedasticidad: True\n",
            "Prueba U de Mann-Whitney: No hay diferencia estadística (p >= 0.05)\n"
          ]
        }
      ]
    },
    {
      "cell_type": "markdown",
      "source": [
        "# Análisis:\n",
        "\n",
        "**Normalidad:** Los datos de ambos grupos (control y Parkinson) para cada canal no siguen una distribución normal. Esto significa que los datos no están distribuidos de manera simétrica alrededor de la media, lo cual es un requisito para realizar una prueba t independiente. Dado que la normalidad no se cumple, no podemos usar la prueba t independiente y necesitamos usar una prueba no paramétrica, como la U de Mann-Whitney.\n",
        "\n",
        "**Homocedasticidad:** La homogeneidad de varianzas (homocedasticidad) es el supuesto de que las varianzas de las poblaciones de las cuales se extrajeron las muestras son iguales. En este caso, la homocedasticidad es True, lo que significa que las varianzas entre los grupos (control y Parkinson) son aproximadamente iguales. Este es un requisito para realizar la prueba t independiente, pero como no podemos cumplir con el supuesto de normalidad, esta información no se utiliza en el análisis.\n",
        "\n",
        "**Prueba U de Mann-Whitney**: Dado que los datos no cumplen con el supuesto de normalidad, se utilizó la prueba no paramétrica U de Mann-Whitney para comparar las muestras de los dos grupos (control y Parkinson). El resultado de \"No hay diferencia estadística (p >= 0.05)\" indica que, según la prueba, no hay suficiente evidencia para rechazar la hipótesis nula de que no hay diferencias significativas entre los grupos para el canal en cuestión."
      ],
      "metadata": {
        "id": "4DNGMsWAg3wa"
      }
    },
    {
      "cell_type": "markdown",
      "source": [
        "# **INFORME**"
      ],
      "metadata": {
        "id": "IryPMFMzuiqC"
      }
    },
    {
      "cell_type": "markdown",
      "source": [
        "Realizar estudios EEG en pacientes con Parkinson en comparación con individuos sanos es fundamental para mejorar la comprensión de la enfermedad, los estudios pueden identificar biomarcadores específicos en la actividad cerebral de pacientes lo que pueden servir como indicadores de la enfermedad ayudando en la diferenciación entre pacientes con parkinson y controles sanos.\n",
        "En la primera parte de este informe donde es posible la extraccion de un segmento de señal control y de señal parkinson  para su visualizacion podriamos decir que observando la señal a simple vista se evidenciaron pequeños cambios en la actividad eléctrica cerebral que reflejan la enfermedad, pudimos observar cambios en la amplitud y sincronización de las ondas cerebrales, asi como una especie de disminucion de coherencia o entropia de la señal. De esta manera podriamos decir que se refleja como hay una degeneración de las neuronas en el cerebro lo que altera la actividad  y sincronización electrica de las redes neuronales, manifestándose en cambios en el EEG.\n",
        "\n",
        "Sin embargo al realizar un estudio estadistico en este informe podemos evidenciar que no hay una variabilidad de los datos muy evidente, la explicacion que podriamos obtener a esto es que la enfermedad de parkinson es neurodegenerativa con una amplia variabilidad en la presentación clínica y en la progresión de los síntomas entre los pacientes, esto puede resultar en superposiciones en los datos de EEG entre pacientes con parkinson y controles sanos, lo que dificulta la distinción clara basada únicamente en los datos\n",
        "\n",
        "Un estudio más avanzado utilizando métodos de análisis mas preciso o con mas datos debería ser capaz de detectar diferencias en las variabilidades de los datos de EEG entre pacientes con parkinson y pacientes sanos en términos de normalidad, homocedasticidad y promedios diferentes, lo que permitiría una mejor comprensión de las alteraciones en la actividad cerebral asociadas con la enfermedad de parkinson [1]\n",
        "\n"
      ],
      "metadata": {
        "id": "wSgbvTiKupon"
      }
    },
    {
      "cell_type": "markdown",
      "source": [
        "# Conclusiones\n",
        "\n",
        "No se encontraron diferencias significativas entre los grupos en términos de energía promedio del canal a pesar de que eran grupos poblacionales diferentes, esto podría deberse a varias razones, como el tamaño de la muestra, la heterogeneidad de la enfermedad de Parkinson, o la falta de sensibilidad de la medida utilizada, es por esto que se sugiere realizar estudios adicionales con muestras más grandes y métodos de análisis más sensibles para evaluar la actividad cerebral en pacientes con Parkinson para compararlos con mayor precisión con un grupo control.\n",
        "\n",
        "Los resultados obtenidos resaltan la importancia de utilizar enfoques multidisciplinarios que integren la neurociencia y la estadística para comprender mejor las características neurofisiológicas de la enfermedad de Parkinson y desarrollar nuevas estrategias de diagnóstico y tratamiento.\n",
        "\n",
        "En el presente trabajo, se demuestra la aplicabilidad de técnicas estadísticas para analizar señales biomédicas como el EEG y su potencial para contribuir al campo de la medicina en el diagnóstico y monitoreo de enfermedades neurológicas como el Parkinson."
      ],
      "metadata": {
        "id": "H06Fzz6Zg1vy"
      }
    },
    {
      "cell_type": "markdown",
      "source": [
        "#Bibliografia\n",
        "\n",
        "[1] Detection of Parkinsons diseasefrom EEG signals using discrete wavelet transform, different entropy measures, and machine learning techniques. Majid Aljalal, Saeed A. Aldosari. Nature Scientific Report (2022) Obtenido de: https://www.ncbi.nlm.nih.gov/pmc/articles/PMC9800369/pdf/41598_2022_Article_26644.pdf"
      ],
      "metadata": {
        "id": "PBL2WUCPNdvh"
      }
    }
  ]
}